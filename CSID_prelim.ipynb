{
  "nbformat": 4,
  "nbformat_minor": 0,
  "metadata": {
    "colab": {
      "provenance": [],
      "authorship_tag": "ABX9TyNTCfjh8Lo+ES51IGMrB8h6",
      "include_colab_link": true
    },
    "kernelspec": {
      "name": "python3",
      "display_name": "Python 3"
    },
    "language_info": {
      "name": "python"
    }
  },
  "cells": [
    {
      "cell_type": "markdown",
      "metadata": {
        "id": "view-in-github",
        "colab_type": "text"
      },
      "source": [
        "<a href=\"https://colab.research.google.com/github/patimus-prime/ML_notebooks/blob/master/CSID_prelim.ipynb\" target=\"_parent\"><img src=\"https://colab.research.google.com/assets/colab-badge.svg\" alt=\"Open In Colab\"/></a>"
      ]
    },
    {
      "cell_type": "code",
      "execution_count": 1,
      "metadata": {
        "id": "UG7eUg90JaBm"
      },
      "outputs": [],
      "source": [
        "import pandas as pd"
      ]
    },
    {
      "cell_type": "code",
      "source": [
        "!ls"
      ],
      "metadata": {
        "colab": {
          "base_uri": "https://localhost:8080/",
          "height": 0
        },
        "id": "Jz-Pi2C5JmAB",
        "outputId": "ec96e6fe-36f6-4602-d47d-c9384f2a1298"
      },
      "execution_count": 4,
      "outputs": [
        {
          "output_type": "stream",
          "name": "stdout",
          "text": [
            "gnomAD_v2.1.1_ENSG00000090402_2023_01_04_01_43_24.csv  sample_data\n"
          ]
        }
      ]
    },
    {
      "cell_type": "code",
      "source": [
        "df = pd.read_csv(\"./gnomAD_v2.1.1_ENSG00000090402_2023_01_04_01_43_24.csv\")"
      ],
      "metadata": {
        "id": "B7y_NWVFJhSg"
      },
      "execution_count": 5,
      "outputs": []
    },
    {
      "cell_type": "code",
      "source": [
        "df.head()"
      ],
      "metadata": {
        "colab": {
          "base_uri": "https://localhost:8080/",
          "height": 455
        },
        "id": "QmxbXxtQJ0jv",
        "outputId": "421d7aa3-636c-42c2-9349-2e014caa2e0a"
      },
      "execution_count": 7,
      "outputs": [
        {
          "output_type": "execute_result",
          "data": {
            "text/plain": [
              "   Chromosome   Position         rsIDs Reference Alternate          Source  \\\n",
              "0           3  164697082    rs73018867         A         G  gnomAD Genomes   \n",
              "1           3  164697085   rs139475251         G         T  gnomAD Genomes   \n",
              "2           3  164697100  rs1366230349         C         G   gnomAD Exomes   \n",
              "3           3  164697106   rs971273566         T         C   gnomAD Exomes   \n",
              "4           3  164697109   rs750496465         T         C   gnomAD Exomes   \n",
              "\n",
              "  Filters - exomes Filters - genomes         Transcript HGVS Consequence  ...  \\\n",
              "0              NaN              PASS  ENST00000264382.3         c.*68T>C  ...   \n",
              "1              NaN              PASS  ENST00000264382.3         c.*65C>A  ...   \n",
              "2             PASS               NaN  ENST00000264382.3         c.*50G>C  ...   \n",
              "3             PASS               NaN  ENST00000264382.3         c.*44A>G  ...   \n",
              "4             PASS               NaN  ENST00000264382.3         c.*41A>G  ...   \n",
              "\n",
              "  Homozygote Count European (non-Finnish)  \\\n",
              "0                                     134   \n",
              "1                                       0   \n",
              "2                                       0   \n",
              "3                                       0   \n",
              "4                                       0   \n",
              "\n",
              "  Hemizygote Count European (non-Finnish) Allele Count Other  \\\n",
              "0                                       0                165   \n",
              "1                                       0                  0   \n",
              "2                                       0                  0   \n",
              "3                                       0                  0   \n",
              "4                                       0                  0   \n",
              "\n",
              "  Allele Number Other  Homozygote Count Other Hemizygote Count Other  \\\n",
              "0                1076                      18                      0   \n",
              "1                1082                       0                      0   \n",
              "2                6044                       0                      0   \n",
              "3                6054                       0                      0   \n",
              "4                6052                       0                      0   \n",
              "\n",
              "   Allele Count South Asian  Allele Number South Asian  \\\n",
              "0                         0                          0   \n",
              "1                         0                          0   \n",
              "2                         1                      30558   \n",
              "3                         0                      30572   \n",
              "4                         0                      30566   \n",
              "\n",
              "   Homozygote Count South Asian  Hemizygote Count South Asian  \n",
              "0                             0                             0  \n",
              "1                             0                             0  \n",
              "2                             0                             0  \n",
              "3                             0                             0  \n",
              "4                             0                             0  \n",
              "\n",
              "[5 rows x 53 columns]"
            ],
            "text/html": [
              "\n",
              "  <div id=\"df-20484ece-1c4a-4fa1-b855-56576a5a6d1e\">\n",
              "    <div class=\"colab-df-container\">\n",
              "      <div>\n",
              "<style scoped>\n",
              "    .dataframe tbody tr th:only-of-type {\n",
              "        vertical-align: middle;\n",
              "    }\n",
              "\n",
              "    .dataframe tbody tr th {\n",
              "        vertical-align: top;\n",
              "    }\n",
              "\n",
              "    .dataframe thead th {\n",
              "        text-align: right;\n",
              "    }\n",
              "</style>\n",
              "<table border=\"1\" class=\"dataframe\">\n",
              "  <thead>\n",
              "    <tr style=\"text-align: right;\">\n",
              "      <th></th>\n",
              "      <th>Chromosome</th>\n",
              "      <th>Position</th>\n",
              "      <th>rsIDs</th>\n",
              "      <th>Reference</th>\n",
              "      <th>Alternate</th>\n",
              "      <th>Source</th>\n",
              "      <th>Filters - exomes</th>\n",
              "      <th>Filters - genomes</th>\n",
              "      <th>Transcript</th>\n",
              "      <th>HGVS Consequence</th>\n",
              "      <th>...</th>\n",
              "      <th>Homozygote Count European (non-Finnish)</th>\n",
              "      <th>Hemizygote Count European (non-Finnish)</th>\n",
              "      <th>Allele Count Other</th>\n",
              "      <th>Allele Number Other</th>\n",
              "      <th>Homozygote Count Other</th>\n",
              "      <th>Hemizygote Count Other</th>\n",
              "      <th>Allele Count South Asian</th>\n",
              "      <th>Allele Number South Asian</th>\n",
              "      <th>Homozygote Count South Asian</th>\n",
              "      <th>Hemizygote Count South Asian</th>\n",
              "    </tr>\n",
              "  </thead>\n",
              "  <tbody>\n",
              "    <tr>\n",
              "      <th>0</th>\n",
              "      <td>3</td>\n",
              "      <td>164697082</td>\n",
              "      <td>rs73018867</td>\n",
              "      <td>A</td>\n",
              "      <td>G</td>\n",
              "      <td>gnomAD Genomes</td>\n",
              "      <td>NaN</td>\n",
              "      <td>PASS</td>\n",
              "      <td>ENST00000264382.3</td>\n",
              "      <td>c.*68T&gt;C</td>\n",
              "      <td>...</td>\n",
              "      <td>134</td>\n",
              "      <td>0</td>\n",
              "      <td>165</td>\n",
              "      <td>1076</td>\n",
              "      <td>18</td>\n",
              "      <td>0</td>\n",
              "      <td>0</td>\n",
              "      <td>0</td>\n",
              "      <td>0</td>\n",
              "      <td>0</td>\n",
              "    </tr>\n",
              "    <tr>\n",
              "      <th>1</th>\n",
              "      <td>3</td>\n",
              "      <td>164697085</td>\n",
              "      <td>rs139475251</td>\n",
              "      <td>G</td>\n",
              "      <td>T</td>\n",
              "      <td>gnomAD Genomes</td>\n",
              "      <td>NaN</td>\n",
              "      <td>PASS</td>\n",
              "      <td>ENST00000264382.3</td>\n",
              "      <td>c.*65C&gt;A</td>\n",
              "      <td>...</td>\n",
              "      <td>0</td>\n",
              "      <td>0</td>\n",
              "      <td>0</td>\n",
              "      <td>1082</td>\n",
              "      <td>0</td>\n",
              "      <td>0</td>\n",
              "      <td>0</td>\n",
              "      <td>0</td>\n",
              "      <td>0</td>\n",
              "      <td>0</td>\n",
              "    </tr>\n",
              "    <tr>\n",
              "      <th>2</th>\n",
              "      <td>3</td>\n",
              "      <td>164697100</td>\n",
              "      <td>rs1366230349</td>\n",
              "      <td>C</td>\n",
              "      <td>G</td>\n",
              "      <td>gnomAD Exomes</td>\n",
              "      <td>PASS</td>\n",
              "      <td>NaN</td>\n",
              "      <td>ENST00000264382.3</td>\n",
              "      <td>c.*50G&gt;C</td>\n",
              "      <td>...</td>\n",
              "      <td>0</td>\n",
              "      <td>0</td>\n",
              "      <td>0</td>\n",
              "      <td>6044</td>\n",
              "      <td>0</td>\n",
              "      <td>0</td>\n",
              "      <td>1</td>\n",
              "      <td>30558</td>\n",
              "      <td>0</td>\n",
              "      <td>0</td>\n",
              "    </tr>\n",
              "    <tr>\n",
              "      <th>3</th>\n",
              "      <td>3</td>\n",
              "      <td>164697106</td>\n",
              "      <td>rs971273566</td>\n",
              "      <td>T</td>\n",
              "      <td>C</td>\n",
              "      <td>gnomAD Exomes</td>\n",
              "      <td>PASS</td>\n",
              "      <td>NaN</td>\n",
              "      <td>ENST00000264382.3</td>\n",
              "      <td>c.*44A&gt;G</td>\n",
              "      <td>...</td>\n",
              "      <td>0</td>\n",
              "      <td>0</td>\n",
              "      <td>0</td>\n",
              "      <td>6054</td>\n",
              "      <td>0</td>\n",
              "      <td>0</td>\n",
              "      <td>0</td>\n",
              "      <td>30572</td>\n",
              "      <td>0</td>\n",
              "      <td>0</td>\n",
              "    </tr>\n",
              "    <tr>\n",
              "      <th>4</th>\n",
              "      <td>3</td>\n",
              "      <td>164697109</td>\n",
              "      <td>rs750496465</td>\n",
              "      <td>T</td>\n",
              "      <td>C</td>\n",
              "      <td>gnomAD Exomes</td>\n",
              "      <td>PASS</td>\n",
              "      <td>NaN</td>\n",
              "      <td>ENST00000264382.3</td>\n",
              "      <td>c.*41A&gt;G</td>\n",
              "      <td>...</td>\n",
              "      <td>0</td>\n",
              "      <td>0</td>\n",
              "      <td>0</td>\n",
              "      <td>6052</td>\n",
              "      <td>0</td>\n",
              "      <td>0</td>\n",
              "      <td>0</td>\n",
              "      <td>30566</td>\n",
              "      <td>0</td>\n",
              "      <td>0</td>\n",
              "    </tr>\n",
              "  </tbody>\n",
              "</table>\n",
              "<p>5 rows × 53 columns</p>\n",
              "</div>\n",
              "      <button class=\"colab-df-convert\" onclick=\"convertToInteractive('df-20484ece-1c4a-4fa1-b855-56576a5a6d1e')\"\n",
              "              title=\"Convert this dataframe to an interactive table.\"\n",
              "              style=\"display:none;\">\n",
              "        \n",
              "  <svg xmlns=\"http://www.w3.org/2000/svg\" height=\"24px\"viewBox=\"0 0 24 24\"\n",
              "       width=\"24px\">\n",
              "    <path d=\"M0 0h24v24H0V0z\" fill=\"none\"/>\n",
              "    <path d=\"M18.56 5.44l.94 2.06.94-2.06 2.06-.94-2.06-.94-.94-2.06-.94 2.06-2.06.94zm-11 1L8.5 8.5l.94-2.06 2.06-.94-2.06-.94L8.5 2.5l-.94 2.06-2.06.94zm10 10l.94 2.06.94-2.06 2.06-.94-2.06-.94-.94-2.06-.94 2.06-2.06.94z\"/><path d=\"M17.41 7.96l-1.37-1.37c-.4-.4-.92-.59-1.43-.59-.52 0-1.04.2-1.43.59L10.3 9.45l-7.72 7.72c-.78.78-.78 2.05 0 2.83L4 21.41c.39.39.9.59 1.41.59.51 0 1.02-.2 1.41-.59l7.78-7.78 2.81-2.81c.8-.78.8-2.07 0-2.86zM5.41 20L4 18.59l7.72-7.72 1.47 1.35L5.41 20z\"/>\n",
              "  </svg>\n",
              "      </button>\n",
              "      \n",
              "  <style>\n",
              "    .colab-df-container {\n",
              "      display:flex;\n",
              "      flex-wrap:wrap;\n",
              "      gap: 12px;\n",
              "    }\n",
              "\n",
              "    .colab-df-convert {\n",
              "      background-color: #E8F0FE;\n",
              "      border: none;\n",
              "      border-radius: 50%;\n",
              "      cursor: pointer;\n",
              "      display: none;\n",
              "      fill: #1967D2;\n",
              "      height: 32px;\n",
              "      padding: 0 0 0 0;\n",
              "      width: 32px;\n",
              "    }\n",
              "\n",
              "    .colab-df-convert:hover {\n",
              "      background-color: #E2EBFA;\n",
              "      box-shadow: 0px 1px 2px rgba(60, 64, 67, 0.3), 0px 1px 3px 1px rgba(60, 64, 67, 0.15);\n",
              "      fill: #174EA6;\n",
              "    }\n",
              "\n",
              "    [theme=dark] .colab-df-convert {\n",
              "      background-color: #3B4455;\n",
              "      fill: #D2E3FC;\n",
              "    }\n",
              "\n",
              "    [theme=dark] .colab-df-convert:hover {\n",
              "      background-color: #434B5C;\n",
              "      box-shadow: 0px 1px 3px 1px rgba(0, 0, 0, 0.15);\n",
              "      filter: drop-shadow(0px 1px 2px rgba(0, 0, 0, 0.3));\n",
              "      fill: #FFFFFF;\n",
              "    }\n",
              "  </style>\n",
              "\n",
              "      <script>\n",
              "        const buttonEl =\n",
              "          document.querySelector('#df-20484ece-1c4a-4fa1-b855-56576a5a6d1e button.colab-df-convert');\n",
              "        buttonEl.style.display =\n",
              "          google.colab.kernel.accessAllowed ? 'block' : 'none';\n",
              "\n",
              "        async function convertToInteractive(key) {\n",
              "          const element = document.querySelector('#df-20484ece-1c4a-4fa1-b855-56576a5a6d1e');\n",
              "          const dataTable =\n",
              "            await google.colab.kernel.invokeFunction('convertToInteractive',\n",
              "                                                     [key], {});\n",
              "          if (!dataTable) return;\n",
              "\n",
              "          const docLinkHtml = 'Like what you see? Visit the ' +\n",
              "            '<a target=\"_blank\" href=https://colab.research.google.com/notebooks/data_table.ipynb>data table notebook</a>'\n",
              "            + ' to learn more about interactive tables.';\n",
              "          element.innerHTML = '';\n",
              "          dataTable['output_type'] = 'display_data';\n",
              "          await google.colab.output.renderOutput(dataTable, element);\n",
              "          const docLink = document.createElement('div');\n",
              "          docLink.innerHTML = docLinkHtml;\n",
              "          element.appendChild(docLink);\n",
              "        }\n",
              "      </script>\n",
              "    </div>\n",
              "  </div>\n",
              "  "
            ]
          },
          "metadata": {},
          "execution_count": 7
        }
      ]
    },
    {
      "cell_type": "markdown",
      "source": [
        "Variant ID is lost importing to pandas/loading in as CSV, instead of using Hail. But... I'm doing this late and I'm already too far in! So we'll just recreate variant ID, which is Chromosome-Position-Ref-Alt"
      ],
      "metadata": {
        "id": "pu9hXma5Uwqx"
      }
    },
    {
      "cell_type": "code",
      "source": [
        "# create a new column 'D' as the concatenated strings of columns 'A', 'B', and 'C'\n",
        "df['Variant_ID'] = df['Chromosome'].astype(str) \\\n",
        " + '-' + df['Position'].astype(str) \\\n",
        " + '-' + df['Reference'].astype(str) \\\n",
        " + '-' + df['Alternate'].astype(str)\n",
        "\n",
        "# move the new column 'D' to the far left by reindexing the columns\n",
        "df = df.reindex(columns=['Variant_ID'] + df.columns.tolist())\n",
        "\n",
        "# display the updated dataframe\n",
        "df.head()"
      ],
      "metadata": {
        "colab": {
          "base_uri": "https://localhost:8080/",
          "height": 542
        },
        "id": "CKGSHQXcVBZ-",
        "outputId": "957b9e75-311e-4c83-8e7a-390b07250143"
      },
      "execution_count": 21,
      "outputs": [
        {
          "output_type": "execute_result",
          "data": {
            "text/plain": [
              "        Variant_ID  Chromosome   Position         rsIDs Reference Alternate  \\\n",
              "0  3-164697082-A-G           3  164697082    rs73018867         A         G   \n",
              "1  3-164697085-G-T           3  164697085   rs139475251         G         T   \n",
              "2  3-164697100-C-G           3  164697100  rs1366230349         C         G   \n",
              "3  3-164697106-T-C           3  164697106   rs971273566         T         C   \n",
              "4  3-164697109-T-C           3  164697109   rs750496465         T         C   \n",
              "\n",
              "           Source Filters - exomes Filters - genomes         Transcript  ...  \\\n",
              "0  gnomAD Genomes              NaN              PASS  ENST00000264382.3  ...   \n",
              "1  gnomAD Genomes              NaN              PASS  ENST00000264382.3  ...   \n",
              "2   gnomAD Exomes             PASS               NaN  ENST00000264382.3  ...   \n",
              "3   gnomAD Exomes             PASS               NaN  ENST00000264382.3  ...   \n",
              "4   gnomAD Exomes             PASS               NaN  ENST00000264382.3  ...   \n",
              "\n",
              "  Hemizygote Count European (non-Finnish) Allele Count Other  \\\n",
              "0                                       0                165   \n",
              "1                                       0                  0   \n",
              "2                                       0                  0   \n",
              "3                                       0                  0   \n",
              "4                                       0                  0   \n",
              "\n",
              "  Allele Number Other Homozygote Count Other Hemizygote Count Other  \\\n",
              "0                1076                     18                      0   \n",
              "1                1082                      0                      0   \n",
              "2                6044                      0                      0   \n",
              "3                6054                      0                      0   \n",
              "4                6052                      0                      0   \n",
              "\n",
              "   Allele Count South Asian Allele Number South Asian  \\\n",
              "0                         0                         0   \n",
              "1                         0                         0   \n",
              "2                         1                     30558   \n",
              "3                         0                     30572   \n",
              "4                         0                     30566   \n",
              "\n",
              "   Homozygote Count South Asian  Hemizygote Count South Asian       Variant_ID  \n",
              "0                             0                             0  3-164697082-A-G  \n",
              "1                             0                             0  3-164697085-G-T  \n",
              "2                             0                             0  3-164697100-C-G  \n",
              "3                             0                             0  3-164697106-T-C  \n",
              "4                             0                             0  3-164697109-T-C  \n",
              "\n",
              "[5 rows x 55 columns]"
            ],
            "text/html": [
              "\n",
              "  <div id=\"df-b3306562-c921-4e23-b892-989f48ea7f0b\">\n",
              "    <div class=\"colab-df-container\">\n",
              "      <div>\n",
              "<style scoped>\n",
              "    .dataframe tbody tr th:only-of-type {\n",
              "        vertical-align: middle;\n",
              "    }\n",
              "\n",
              "    .dataframe tbody tr th {\n",
              "        vertical-align: top;\n",
              "    }\n",
              "\n",
              "    .dataframe thead th {\n",
              "        text-align: right;\n",
              "    }\n",
              "</style>\n",
              "<table border=\"1\" class=\"dataframe\">\n",
              "  <thead>\n",
              "    <tr style=\"text-align: right;\">\n",
              "      <th></th>\n",
              "      <th>Variant_ID</th>\n",
              "      <th>Chromosome</th>\n",
              "      <th>Position</th>\n",
              "      <th>rsIDs</th>\n",
              "      <th>Reference</th>\n",
              "      <th>Alternate</th>\n",
              "      <th>Source</th>\n",
              "      <th>Filters - exomes</th>\n",
              "      <th>Filters - genomes</th>\n",
              "      <th>Transcript</th>\n",
              "      <th>...</th>\n",
              "      <th>Hemizygote Count European (non-Finnish)</th>\n",
              "      <th>Allele Count Other</th>\n",
              "      <th>Allele Number Other</th>\n",
              "      <th>Homozygote Count Other</th>\n",
              "      <th>Hemizygote Count Other</th>\n",
              "      <th>Allele Count South Asian</th>\n",
              "      <th>Allele Number South Asian</th>\n",
              "      <th>Homozygote Count South Asian</th>\n",
              "      <th>Hemizygote Count South Asian</th>\n",
              "      <th>Variant_ID</th>\n",
              "    </tr>\n",
              "  </thead>\n",
              "  <tbody>\n",
              "    <tr>\n",
              "      <th>0</th>\n",
              "      <td>3-164697082-A-G</td>\n",
              "      <td>3</td>\n",
              "      <td>164697082</td>\n",
              "      <td>rs73018867</td>\n",
              "      <td>A</td>\n",
              "      <td>G</td>\n",
              "      <td>gnomAD Genomes</td>\n",
              "      <td>NaN</td>\n",
              "      <td>PASS</td>\n",
              "      <td>ENST00000264382.3</td>\n",
              "      <td>...</td>\n",
              "      <td>0</td>\n",
              "      <td>165</td>\n",
              "      <td>1076</td>\n",
              "      <td>18</td>\n",
              "      <td>0</td>\n",
              "      <td>0</td>\n",
              "      <td>0</td>\n",
              "      <td>0</td>\n",
              "      <td>0</td>\n",
              "      <td>3-164697082-A-G</td>\n",
              "    </tr>\n",
              "    <tr>\n",
              "      <th>1</th>\n",
              "      <td>3-164697085-G-T</td>\n",
              "      <td>3</td>\n",
              "      <td>164697085</td>\n",
              "      <td>rs139475251</td>\n",
              "      <td>G</td>\n",
              "      <td>T</td>\n",
              "      <td>gnomAD Genomes</td>\n",
              "      <td>NaN</td>\n",
              "      <td>PASS</td>\n",
              "      <td>ENST00000264382.3</td>\n",
              "      <td>...</td>\n",
              "      <td>0</td>\n",
              "      <td>0</td>\n",
              "      <td>1082</td>\n",
              "      <td>0</td>\n",
              "      <td>0</td>\n",
              "      <td>0</td>\n",
              "      <td>0</td>\n",
              "      <td>0</td>\n",
              "      <td>0</td>\n",
              "      <td>3-164697085-G-T</td>\n",
              "    </tr>\n",
              "    <tr>\n",
              "      <th>2</th>\n",
              "      <td>3-164697100-C-G</td>\n",
              "      <td>3</td>\n",
              "      <td>164697100</td>\n",
              "      <td>rs1366230349</td>\n",
              "      <td>C</td>\n",
              "      <td>G</td>\n",
              "      <td>gnomAD Exomes</td>\n",
              "      <td>PASS</td>\n",
              "      <td>NaN</td>\n",
              "      <td>ENST00000264382.3</td>\n",
              "      <td>...</td>\n",
              "      <td>0</td>\n",
              "      <td>0</td>\n",
              "      <td>6044</td>\n",
              "      <td>0</td>\n",
              "      <td>0</td>\n",
              "      <td>1</td>\n",
              "      <td>30558</td>\n",
              "      <td>0</td>\n",
              "      <td>0</td>\n",
              "      <td>3-164697100-C-G</td>\n",
              "    </tr>\n",
              "    <tr>\n",
              "      <th>3</th>\n",
              "      <td>3-164697106-T-C</td>\n",
              "      <td>3</td>\n",
              "      <td>164697106</td>\n",
              "      <td>rs971273566</td>\n",
              "      <td>T</td>\n",
              "      <td>C</td>\n",
              "      <td>gnomAD Exomes</td>\n",
              "      <td>PASS</td>\n",
              "      <td>NaN</td>\n",
              "      <td>ENST00000264382.3</td>\n",
              "      <td>...</td>\n",
              "      <td>0</td>\n",
              "      <td>0</td>\n",
              "      <td>6054</td>\n",
              "      <td>0</td>\n",
              "      <td>0</td>\n",
              "      <td>0</td>\n",
              "      <td>30572</td>\n",
              "      <td>0</td>\n",
              "      <td>0</td>\n",
              "      <td>3-164697106-T-C</td>\n",
              "    </tr>\n",
              "    <tr>\n",
              "      <th>4</th>\n",
              "      <td>3-164697109-T-C</td>\n",
              "      <td>3</td>\n",
              "      <td>164697109</td>\n",
              "      <td>rs750496465</td>\n",
              "      <td>T</td>\n",
              "      <td>C</td>\n",
              "      <td>gnomAD Exomes</td>\n",
              "      <td>PASS</td>\n",
              "      <td>NaN</td>\n",
              "      <td>ENST00000264382.3</td>\n",
              "      <td>...</td>\n",
              "      <td>0</td>\n",
              "      <td>0</td>\n",
              "      <td>6052</td>\n",
              "      <td>0</td>\n",
              "      <td>0</td>\n",
              "      <td>0</td>\n",
              "      <td>30566</td>\n",
              "      <td>0</td>\n",
              "      <td>0</td>\n",
              "      <td>3-164697109-T-C</td>\n",
              "    </tr>\n",
              "  </tbody>\n",
              "</table>\n",
              "<p>5 rows × 55 columns</p>\n",
              "</div>\n",
              "      <button class=\"colab-df-convert\" onclick=\"convertToInteractive('df-b3306562-c921-4e23-b892-989f48ea7f0b')\"\n",
              "              title=\"Convert this dataframe to an interactive table.\"\n",
              "              style=\"display:none;\">\n",
              "        \n",
              "  <svg xmlns=\"http://www.w3.org/2000/svg\" height=\"24px\"viewBox=\"0 0 24 24\"\n",
              "       width=\"24px\">\n",
              "    <path d=\"M0 0h24v24H0V0z\" fill=\"none\"/>\n",
              "    <path d=\"M18.56 5.44l.94 2.06.94-2.06 2.06-.94-2.06-.94-.94-2.06-.94 2.06-2.06.94zm-11 1L8.5 8.5l.94-2.06 2.06-.94-2.06-.94L8.5 2.5l-.94 2.06-2.06.94zm10 10l.94 2.06.94-2.06 2.06-.94-2.06-.94-.94-2.06-.94 2.06-2.06.94z\"/><path d=\"M17.41 7.96l-1.37-1.37c-.4-.4-.92-.59-1.43-.59-.52 0-1.04.2-1.43.59L10.3 9.45l-7.72 7.72c-.78.78-.78 2.05 0 2.83L4 21.41c.39.39.9.59 1.41.59.51 0 1.02-.2 1.41-.59l7.78-7.78 2.81-2.81c.8-.78.8-2.07 0-2.86zM5.41 20L4 18.59l7.72-7.72 1.47 1.35L5.41 20z\"/>\n",
              "  </svg>\n",
              "      </button>\n",
              "      \n",
              "  <style>\n",
              "    .colab-df-container {\n",
              "      display:flex;\n",
              "      flex-wrap:wrap;\n",
              "      gap: 12px;\n",
              "    }\n",
              "\n",
              "    .colab-df-convert {\n",
              "      background-color: #E8F0FE;\n",
              "      border: none;\n",
              "      border-radius: 50%;\n",
              "      cursor: pointer;\n",
              "      display: none;\n",
              "      fill: #1967D2;\n",
              "      height: 32px;\n",
              "      padding: 0 0 0 0;\n",
              "      width: 32px;\n",
              "    }\n",
              "\n",
              "    .colab-df-convert:hover {\n",
              "      background-color: #E2EBFA;\n",
              "      box-shadow: 0px 1px 2px rgba(60, 64, 67, 0.3), 0px 1px 3px 1px rgba(60, 64, 67, 0.15);\n",
              "      fill: #174EA6;\n",
              "    }\n",
              "\n",
              "    [theme=dark] .colab-df-convert {\n",
              "      background-color: #3B4455;\n",
              "      fill: #D2E3FC;\n",
              "    }\n",
              "\n",
              "    [theme=dark] .colab-df-convert:hover {\n",
              "      background-color: #434B5C;\n",
              "      box-shadow: 0px 1px 3px 1px rgba(0, 0, 0, 0.15);\n",
              "      filter: drop-shadow(0px 1px 2px rgba(0, 0, 0, 0.3));\n",
              "      fill: #FFFFFF;\n",
              "    }\n",
              "  </style>\n",
              "\n",
              "      <script>\n",
              "        const buttonEl =\n",
              "          document.querySelector('#df-b3306562-c921-4e23-b892-989f48ea7f0b button.colab-df-convert');\n",
              "        buttonEl.style.display =\n",
              "          google.colab.kernel.accessAllowed ? 'block' : 'none';\n",
              "\n",
              "        async function convertToInteractive(key) {\n",
              "          const element = document.querySelector('#df-b3306562-c921-4e23-b892-989f48ea7f0b');\n",
              "          const dataTable =\n",
              "            await google.colab.kernel.invokeFunction('convertToInteractive',\n",
              "                                                     [key], {});\n",
              "          if (!dataTable) return;\n",
              "\n",
              "          const docLinkHtml = 'Like what you see? Visit the ' +\n",
              "            '<a target=\"_blank\" href=https://colab.research.google.com/notebooks/data_table.ipynb>data table notebook</a>'\n",
              "            + ' to learn more about interactive tables.';\n",
              "          element.innerHTML = '';\n",
              "          dataTable['output_type'] = 'display_data';\n",
              "          await google.colab.output.renderOutput(dataTable, element);\n",
              "          const docLink = document.createElement('div');\n",
              "          docLink.innerHTML = docLinkHtml;\n",
              "          element.appendChild(docLink);\n",
              "        }\n",
              "      </script>\n",
              "    </div>\n",
              "  </div>\n",
              "  "
            ]
          },
          "metadata": {},
          "execution_count": 21
        }
      ]
    },
    {
      "cell_type": "markdown",
      "source": [
        "\n",
        "\n",
        "From gnomAD about:\n",
        "Stats\n",
        "v2 release is composed of 125,748 exomes and 15,708 genomes (GRCh37)\n",
        "gnomAD structural variant (SV) v2.1 represents 10,847 genomes (GRCh37)\n",
        "v3.1 spans 76,156 genomes (GRCh38)\n",
        "\n",
        "... Also we get 282832 high quality allele reads in this dataset, max (this is per variant). We have a min of approx. 10k allele reads for one variant with approx 100 reads, so it's only picked up 100 times from a limited dataset, in 10k genomes that pass quality check. I think.\n",
        "\n"
      ],
      "metadata": {
        "id": "CS2wHswGKNlZ"
      }
    },
    {
      "cell_type": "code",
      "source": [
        "df['ClinVar Clinical Significance'].unique()"
      ],
      "metadata": {
        "colab": {
          "base_uri": "https://localhost:8080/",
          "height": 0
        },
        "id": "d6SISKKuMsVd",
        "outputId": "1c042eed-f008-42d8-94c0-91f40f951f46"
      },
      "execution_count": 22,
      "outputs": [
        {
          "output_type": "execute_result",
          "data": {
            "text/plain": [
              "array(['Benign', nan, 'Likely benign',\n",
              "       'Conflicting interpretations of pathogenicity',\n",
              "       'Uncertain significance', 'Benign/Likely benign',\n",
              "       'Likely pathogenic', 'Pathogenic/Likely pathogenic', 'Pathogenic'],\n",
              "      dtype=object)"
            ]
          },
          "metadata": {},
          "execution_count": 22
        }
      ]
    },
    {
      "cell_type": "code",
      "source": [
        "df['ClinVar Variation ID'].count()\n"
      ],
      "metadata": {
        "colab": {
          "base_uri": "https://localhost:8080/",
          "height": 0
        },
        "id": "z2L9F0VPQyNX",
        "outputId": "8ae809bd-0a58-4bd1-d6c5-508a9a27e328"
      },
      "execution_count": 23,
      "outputs": [
        {
          "output_type": "execute_result",
          "data": {
            "text/plain": [
              "457"
            ]
          },
          "metadata": {},
          "execution_count": 23
        }
      ]
    },
    {
      "cell_type": "markdown",
      "source": [
        "457 documented variants in ClinVar -- many of unknown/conflicting significance."
      ],
      "metadata": {
        "id": "ohEeUOtXiLuY"
      }
    },
    {
      "cell_type": "code",
      "source": [
        "df_path = df[df['ClinVar Clinical Significance'].isin(['Pathogenic',\n",
        "                                                  'Pathogenic/Likely pathogenic',\n",
        "                                                  'Likely pathogenic'\n",
        "                                                  ])]"
      ],
      "metadata": {
        "id": "PxxUM4SGMh-g"
      },
      "execution_count": 74,
      "outputs": []
    },
    {
      "cell_type": "code",
      "source": [
        "df_path['ClinVar Variation ID'].count()"
      ],
      "metadata": {
        "colab": {
          "base_uri": "https://localhost:8080/"
        },
        "id": "Zzb4okzGNy1M",
        "outputId": "a8407ca6-f514-46eb-b42c-1fe1b669cc4a"
      },
      "execution_count": 75,
      "outputs": [
        {
          "output_type": "execute_result",
          "data": {
            "text/plain": [
              "18"
            ]
          },
          "metadata": {},
          "execution_count": 75
        }
      ]
    },
    {
      "cell_type": "markdown",
      "source": [
        "18 variants, of the 457 recorded in ClinVar, are currently clinically annotated. Note this is for variants caught in ClinVar -- many of which are not annotated. There are many variants not in ClinVar... just starting off small.\n",
        "\n",
        "If we now however look at the predicted effects for variants from df, we'll see more. VEP looks at genetic conservation, effects on regulatory regions if involved, and ultimately the difference in transcript/protein. It does not dock.\n",
        "\n",
        "See also:\n",
        "ClinVar:\n",
        "https://www.ncbi.nlm.nih.gov/clinvar/?gr=0&term=SI[gene]\n",
        "\n",
        "dbVar (includes structural vs. clinical):\n",
        "https://www.ncbi.nlm.nih.gov/dbvar?LinkName=gene_dbvar&from_uid=6476\n"
      ],
      "metadata": {
        "id": "OCPcRb-4Omm_"
      }
    },
    {
      "cell_type": "markdown",
      "source": [
        "THIS NEXT ONE GETS ALL THE VARIANTS!"
      ],
      "metadata": {
        "id": "tYaEEIxbWAwZ"
      }
    },
    {
      "cell_type": "code",
      "source": [
        "# Let's get full numbers before the following:\n",
        "print(\"the total unique variants in df\")\n",
        "df['Variant_ID'].count()"
      ],
      "metadata": {
        "colab": {
          "base_uri": "https://localhost:8080/",
          "height": 0
        },
        "id": "Dr0WHb0MV3im",
        "outputId": "efd7b63e-b976-49ce-af89-bde5ef74bfc1"
      },
      "execution_count": 56,
      "outputs": [
        {
          "output_type": "stream",
          "name": "stdout",
          "text": [
            "the total unique variants in df\n"
          ]
        },
        {
          "output_type": "execute_result",
          "data": {
            "text/plain": [
              "Variant_ID    3470\n",
              "Variant_ID    3470\n",
              "dtype: int64"
            ]
          },
          "metadata": {},
          "execution_count": 56
        }
      ]
    },
    {
      "cell_type": "code",
      "source": [
        "print(\"the total variants recorded... with clinvar pathogenic annotation\")\n",
        "df_path['Variant_ID'].count()"
      ],
      "metadata": {
        "colab": {
          "base_uri": "https://localhost:8080/",
          "height": 0
        },
        "id": "VdfFkSFXWE6C",
        "outputId": "6105afa6-d816-4c1e-bb1f-2f71ee56ca61"
      },
      "execution_count": 31,
      "outputs": [
        {
          "output_type": "stream",
          "name": "stdout",
          "text": [
            "the total variants recorded... with clinvar pathogenic annotation\n"
          ]
        },
        {
          "output_type": "execute_result",
          "data": {
            "text/plain": [
              "Variant_ID    18\n",
              "Variant_ID    18\n",
              "dtype: int64"
            ]
          },
          "metadata": {},
          "execution_count": 31
        }
      ]
    },
    {
      "cell_type": "code",
      "source": [
        "df['VEP Annotation'].unique()"
      ],
      "metadata": {
        "colab": {
          "base_uri": "https://localhost:8080/",
          "height": 0
        },
        "id": "IkFSBd7pRtu3",
        "outputId": "a059166f-992e-4b50-c120-1436af386427"
      },
      "execution_count": 26,
      "outputs": [
        {
          "output_type": "execute_result",
          "data": {
            "text/plain": [
              "array(['3_prime_UTR_variant', 'synonymous_variant', 'missense_variant',\n",
              "       'frameshift_variant', 'splice_region_variant', 'intron_variant',\n",
              "       'inframe_deletion', 'stop_gained', 'splice_donor_variant',\n",
              "       'splice_acceptor_variant', 'protein_altering_variant',\n",
              "       'start_lost'], dtype=object)"
            ]
          },
          "metadata": {},
          "execution_count": 26
        }
      ]
    },
    {
      "cell_type": "code",
      "source": [
        "df_vep = df[df['VEP Annotation'].isin(['frameshift_variant',\n",
        "                                       'stop_gained',\n",
        "                                       'splice_donor_variant',\n",
        "                                       'splice_acceptor_variant',\n",
        "                                       ])]"
      ],
      "metadata": {
        "id": "DEr1ZJ3WRdye"
      },
      "execution_count": 36,
      "outputs": []
    },
    {
      "cell_type": "code",
      "source": [
        "df_vep['Variant_ID'].count()"
      ],
      "metadata": {
        "colab": {
          "base_uri": "https://localhost:8080/",
          "height": 0
        },
        "id": "H-PzstL5WejN",
        "outputId": "72343515-68fc-4048-ff11-a10d9262c613"
      },
      "execution_count": 37,
      "outputs": [
        {
          "output_type": "execute_result",
          "data": {
            "text/plain": [
              "Variant_ID    168\n",
              "Variant_ID    168\n",
              "dtype: int64"
            ]
          },
          "metadata": {},
          "execution_count": 37
        }
      ]
    },
    {
      "cell_type": "markdown",
      "source": [
        "THAT'S THE BIG NUMBER! 168 variants that are predicted based off VEP. 150 new ones that could lead to some effect, at least based off the limited data in ensembl."
      ],
      "metadata": {
        "id": "xltWx3xlZYoG"
      }
    },
    {
      "cell_type": "code",
      "source": [
        "df_vep['Homozygote Count'].sum()"
      ],
      "metadata": {
        "colab": {
          "base_uri": "https://localhost:8080/",
          "height": 0
        },
        "id": "I_MAHjTYZD4b",
        "outputId": "75c7f1b6-bf61-43be-a515-4c35f647b159"
      },
      "execution_count": 55,
      "outputs": [
        {
          "output_type": "execute_result",
          "data": {
            "text/plain": [
              "0"
            ]
          },
          "metadata": {},
          "execution_count": 55
        }
      ]
    },
    {
      "cell_type": "code",
      "source": [
        "df_path['Homozygote Count'].sum()\n"
      ],
      "metadata": {
        "colab": {
          "base_uri": "https://localhost:8080/",
          "height": 0
        },
        "id": "gURVxNQFhmmv",
        "outputId": "5ff8a8fb-e2a2-4a06-be65-0f7fca787bf9"
      },
      "execution_count": 70,
      "outputs": [
        {
          "output_type": "execute_result",
          "data": {
            "text/plain": [
              "0"
            ]
          },
          "metadata": {},
          "execution_count": 70
        }
      ]
    },
    {
      "cell_type": "markdown",
      "source": [
        "This is really interesting. CSID occurs in patients that are homozygote and neither allele produces functional sucrase. There's also literature that suggests heterozygote individuals also experience symptoms. It may be that no one in gnomAD has CSID, validating prior work on approx. 1/400,000 people having CSID. Just works out they weren't featured in the approx 100,000 genomes.\n",
        "\n",
        "... But gnomAD also specifically states they try not to include patients with rare diseases, because their specific mutation can potentially be used to identify them/family."
      ],
      "metadata": {
        "id": "LUIjnWRgZO_L"
      }
    },
    {
      "cell_type": "code",
      "source": [
        "# let's instead look at how many have these variants\n",
        "df_vep['Allele Count'].sum()"
      ],
      "metadata": {
        "colab": {
          "base_uri": "https://localhost:8080/",
          "height": 0
        },
        "id": "59l4CKE6fWpW",
        "outputId": "62a35206-cacb-422b-a2d1-844d7dfae6cc"
      },
      "execution_count": 64,
      "outputs": [
        {
          "output_type": "execute_result",
          "data": {
            "text/plain": [
              "401"
            ]
          },
          "metadata": {},
          "execution_count": 64
        }
      ]
    },
    {
      "cell_type": "markdown",
      "source": [
        "So, 200 heterozygotes with one allele predicted bad. \n",
        "200/150,000 = 1/750 (0.13%) heterozygote with potential symptoms\n",
        "\n",
        "Current estimate for homozygote approx. 1/400,000: \n",
        "de Leusse, C., et al. \"Estimating the prevalence of congenital disaccharidase deficiencies using allele frequencies from gnomAD.\" Archives de Pédiatrie 29.8 (2022): 599-603.\n",
        "\n",
        "But yeah, homozygote count is hidden/0 in this genetic database."
      ],
      "metadata": {
        "id": "3p9rO3y0fzk1"
      }
    },
    {
      "cell_type": "markdown",
      "source": [
        "---"
      ],
      "metadata": {
        "id": "RlkV2iPLg0ym"
      }
    },
    {
      "cell_type": "markdown",
      "source": [
        "Most missense are benign for this disease; the ones that are pathogenic or likely pathogenic are above. These could still be modeled. The number is like 102k missense for one \"variant\" which may as well be the reference. "
      ],
      "metadata": {
        "id": "ET7Qbbn8WtvU"
      }
    },
    {
      "cell_type": "code",
      "source": [
        "df_vep_mis = df[df['VEP Annotation'].isin([\n",
        "                                       'missense_variant',\n",
        "                                       ])]"
      ],
      "metadata": {
        "id": "IA8eBFSPWtYd"
      },
      "execution_count": 60,
      "outputs": []
    },
    {
      "cell_type": "code",
      "source": [
        "df_vep_mis['Variant_ID'].count()\n"
      ],
      "metadata": {
        "colab": {
          "base_uri": "https://localhost:8080/",
          "height": 0
        },
        "id": "eW1dVPdvW6Bi",
        "outputId": "675f559c-a911-4eb0-de52-b948e05ee6e4"
      },
      "execution_count": 61,
      "outputs": [
        {
          "output_type": "execute_result",
          "data": {
            "text/plain": [
              "Variant_ID    1141\n",
              "Variant_ID    1141\n",
              "dtype: int64"
            ]
          },
          "metadata": {},
          "execution_count": 61
        }
      ]
    },
    {
      "cell_type": "code",
      "source": [
        "df_vep_mis['Homozygote Count'].describe()"
      ],
      "metadata": {
        "colab": {
          "base_uri": "https://localhost:8080/",
          "height": 0
        },
        "id": "q_K4cZ1rYpxM",
        "outputId": "f544eb79-ed8a-4ab5-b64e-68dc79971b48"
      },
      "execution_count": 62,
      "outputs": [
        {
          "output_type": "execute_result",
          "data": {
            "text/plain": [
              "count      1141.000000\n",
              "mean        145.155127\n",
              "std        3426.004690\n",
              "min           0.000000\n",
              "25%           0.000000\n",
              "50%           0.000000\n",
              "75%           0.000000\n",
              "max      102305.000000\n",
              "Name: Homozygote Count, dtype: float64"
            ]
          },
          "metadata": {},
          "execution_count": 62
        }
      ]
    },
    {
      "cell_type": "code",
      "source": [
        "# this is weird, another day\n",
        "df_vep_mis['Homozygote Count'].sum()"
      ],
      "metadata": {
        "colab": {
          "base_uri": "https://localhost:8080/",
          "height": 0
        },
        "id": "oBAo1GQLdPFz",
        "outputId": "1f18ed81-16fc-49f3-9569-fedf20405856"
      },
      "execution_count": 63,
      "outputs": [
        {
          "output_type": "execute_result",
          "data": {
            "text/plain": [
              "165622"
            ]
          },
          "metadata": {},
          "execution_count": 63
        }
      ]
    }
  ]
}