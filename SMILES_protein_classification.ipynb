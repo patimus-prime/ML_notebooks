{
  "cells": [
    {
      "cell_type": "markdown",
      "metadata": {
        "id": "view-in-github",
        "colab_type": "text"
      },
      "source": [
        "<a href=\"https://colab.research.google.com/github/patimus-prime/ML_notebooks/blob/master/SMILES_protein_classification.ipynb\" target=\"_parent\"><img src=\"https://colab.research.google.com/assets/colab-badge.svg\" alt=\"Open In Colab\"/></a>"
      ]
    },
    {
      "cell_type": "markdown",
      "source": [
        "Deprecated, please see: https://github.com/patimus-prime/ML_notebooks/blob/master/SMILES_2_0.ipynb\n",
        "\n",
        "\n",
        "This link maintained to support previous resume/website versions but will be removed... soon, as of Feb 2023. "
      ],
      "metadata": {
        "id": "gzsyzdzDJNk3"
      },
      "id": "gzsyzdzDJNk3"
    }
  ],
  "metadata": {
    "celltoolbar": "Slideshow",
    "kernelspec": {
      "display_name": "Python 3 (ipykernel)",
      "language": "python",
      "name": "python3"
    },
    "language_info": {
      "codemirror_mode": {
        "name": "ipython",
        "version": 3
      },
      "file_extension": ".py",
      "mimetype": "text/x-python",
      "name": "python",
      "nbconvert_exporter": "python",
      "pygments_lexer": "ipython3",
      "version": "3.9.7"
    },
    "vscode": {
      "interpreter": {
        "hash": "e8925fd10aa88e4e739fc26e7e70d91bb35eb8af06ce4c53084949db471ca342"
      }
    },
    "colab": {
      "provenance": [],
      "include_colab_link": true
    }
  },
  "nbformat": 4,
  "nbformat_minor": 5
}